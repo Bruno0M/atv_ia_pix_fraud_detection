{
 "cells": [
  {
   "cell_type": "code",
   "execution_count": null,
   "id": "b27ef931",
   "metadata": {
    "vscode": {
     "languageId": "plaintext"
    }
   },
   "outputs": [],
   "source": [
    "import pandas as pd\n",
    "from sklearn.model_selection import train_test_split\n",
    "\n",
    "df = pd.read_csv('pix.csv', sep=';')\n",
    "\n",
    "print(\"Primeiras 5 linhas do dataset:\")\n",
    "print(df.head())\n",
    "print(\"\\nInformações do dataset:\")\n",
    "print(df.info())\n",
    "print(\"\\nEstatísticas descritivas:\")\n",
    "print(df.describe())\n",
    "\n",
    "print(\"\\nValores nulos por coluna:\")\n",
    "print(df.isnull().sum())\n",
    "\n",
    "df['Valor'].fillna(df['Valor'].mean(), inplace=True)\n",
    "\n",
    "categorical_columns = ['Moeda', 'Pagador_Nome', 'Pagador_CPF_CNPJ', 'Pagador_Banco', \n",
    "                      'Recebedor_Nome', 'Recebedor_CPF_CNPJ', 'Recebedor_Banco', \n",
    "                      'ChavePix_Utilizada', 'TipoChave', 'Descricao', 'Status']\n",
    "for column in categorical_columns:\n",
    "    df[column].fillna(df[column].mode()[0], inplace=True)\n",
    "\n",
    "dummy_columns = ['Moeda', 'Pagador_Banco', 'Recebedor_Banco', 'TipoChave', 'Status']\n",
    "df = pd.get_dummies(df, columns=dummy_columns, drop_first=True)\n",
    "\n",
    "X = df.drop(['Anomalia', 'EndToEndId', 'DataHora', 'Pagador_Nome', \n",
    "             'Pagador_CPF_CNPJ', 'Recebedor_Nome', 'Recebedor_CPF_CNPJ', \n",
    "             'ChavePix_Utilizada', 'Descricao'], axis=1)\n",
    "y = df['Anomalia']\n",
    "\n",
    "X_train, X_test, y_train, y_test = train_test_split(X, y, test_size=0.2, random_state=42)\n",
    "\n",
    "print(\"\\nTamanho do conjunto de treino:\", X_train.shape)\n",
    "print(\"Tamanho do conjunto de teste:\", X_test.shape)"
   ]
  }
 ],
 "metadata": {
  "language_info": {
   "name": "python"
  }
 },
 "nbformat": 4,
 "nbformat_minor": 5
}
