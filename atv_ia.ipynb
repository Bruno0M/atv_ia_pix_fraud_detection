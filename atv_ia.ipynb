{
  "cells": [
    {
      "cell_type": "markdown",
      "metadata": {
        "id": "hYfYj-0ro3k9"
      },
      "source": [
        "## 1. Importação das Bibliotecas\n",
        "Importa todas as bibliotecas necessárias para o projeto"
      ]
    },
    {
      "cell_type": "code",
      "execution_count": 5,
      "metadata": {
        "id": "k2OT184no6_G"
      },
      "outputs": [],
      "source": [
        "import pandas as pd\n",
        "import matplotlib.pyplot as plt\n",
        "from sklearn.model_selection import train_test_split\n",
        "from sklearn.tree import DecisionTreeClassifier\n",
        "from sklearn.neighbors import KNeighborsClassifier\n",
        "from sklearn.linear_model import LogisticRegression\n",
        "from sklearn.metrics import accuracy_score, confusion_matrix, f1_score"
      ]
    },
    {
      "cell_type": "markdown",
      "metadata": {
        "id": "m-ZF7_5xo7zl"
      },
      "source": [
        "## 2. Carregamento e Exploração Inicial do Dataset\n",
        "Carrega o dataset `pix.csv` e realiza uma exploração inicial para entender a estrutura dos dados, incluindo visualização das primeiras linhas, informações sobre colunas e estatísticas descritivas."
      ]
    },
    {
      "cell_type": "code",
      "execution_count": 6,
      "metadata": {
        "colab": {
          "base_uri": "https://localhost:8080/"
        },
        "id": "BTAqbEtkpBGm",
        "outputId": "885c32c2-8874-455f-f964-94b7992c0b89"
      },
      "outputs": [
        {
          "name": "stdout",
          "output_type": "stream",
          "text": [
            "Primeiras 5 linhas do dataset:\n",
            "                             EndToEndId             DataHora    Valor Moeda  \\\n",
            "0  f094cb2c-2a73-463c-b60e-0c57262051e4  2025-06-26 21:07:56  4658.86   BRL   \n",
            "1  f0409769-741f-49bd-811a-3842cc8f54db  2025-06-23 17:47:56  3184.72   BRL   \n",
            "2  c1d22287-d343-4c91-b03d-dbe9a69695b3  2025-06-27 15:58:56  1054.48   BRL   \n",
            "3  254423a9-50b7-41b1-a099-e8cf6232bab4  2025-07-15 13:59:56  3564.76   BRL   \n",
            "4  f1c5e3e7-bc62-4f18-91e3-c8f92aebdd59  2025-06-23 06:19:56    15.16   BRL   \n",
            "\n",
            "           Pagador_Nome    Pagador_CPF_CNPJ     Pagador_Banco  \\\n",
            "0        Nathan Cardoso  13.253.967/0001-95       BTG Pactual   \n",
            "1       Benjamin Barros      781.515.544-64   Banco do Brasil   \n",
            "2          Lorena Cunha      444.922.709-96       Banco Inter   \n",
            "3      Sra. Luana Pinto      468.153.904-62       Banco Safra   \n",
            "4  João Miguel da Cunha  83.407.726/0001-68  Santander Brasil   \n",
            "\n",
            "         Recebedor_Nome  Recebedor_CPF_CNPJ          Recebedor_Banco  \\\n",
            "0     Ana Beatriz Ramos      901.361.580-95                   Nubank   \n",
            "1  Carlos Eduardo Nunes      288.758.607-72            Itaú Unibanco   \n",
            "2        Lívia Silveira      530.827.935-48                 Bradesco   \n",
            "3          Helena Pires      827.707.674-51  Caixa Econômica Federal   \n",
            "4  Dr. Luiz Felipe Dias  65.245.322/0001-12                  C6 Bank   \n",
            "\n",
            "                     ChavePix_Utilizada        TipoChave  \\\n",
            "0                       +559694830-9884         Telefone   \n",
            "1                       +552298530-1917         Telefone   \n",
            "2  c4f4c3c6-4d78-4946-b33e-4a1135711a8a  Chave Aleatória   \n",
            "3                     user421@email.com           E-mail   \n",
            "4                      user97@email.com           E-mail   \n",
            "\n",
            "                            Descricao     Status  Anomalia  \n",
            "0  Pagamento referente ao serviço 927  Concluída         0  \n",
            "1  Pagamento referente ao serviço 950   Pendente         0  \n",
            "2  Pagamento referente ao serviço 173   Pendente         0  \n",
            "3  Pagamento referente ao serviço 560  Estornada         0  \n",
            "4  Pagamento referente ao serviço 140   Pendente         0  \n",
            "\n",
            "Informações do dataset:\n",
            "<class 'pandas.core.frame.DataFrame'>\n",
            "RangeIndex: 10000 entries, 0 to 9999\n",
            "Data columns (total 15 columns):\n",
            " #   Column              Non-Null Count  Dtype  \n",
            "---  ------              --------------  -----  \n",
            " 0   EndToEndId          10000 non-null  object \n",
            " 1   DataHora            10000 non-null  object \n",
            " 2   Valor               10000 non-null  float64\n",
            " 3   Moeda               10000 non-null  object \n",
            " 4   Pagador_Nome        10000 non-null  object \n",
            " 5   Pagador_CPF_CNPJ    10000 non-null  object \n",
            " 6   Pagador_Banco       10000 non-null  object \n",
            " 7   Recebedor_Nome      10000 non-null  object \n",
            " 8   Recebedor_CPF_CNPJ  10000 non-null  object \n",
            " 9   Recebedor_Banco     10000 non-null  object \n",
            " 10  ChavePix_Utilizada  10000 non-null  object \n",
            " 11  TipoChave           10000 non-null  object \n",
            " 12  Descricao           10000 non-null  object \n",
            " 13  Status              10000 non-null  object \n",
            " 14  Anomalia            10000 non-null  int64  \n",
            "dtypes: float64(1), int64(1), object(13)\n",
            "memory usage: 1.1+ MB\n",
            "None\n",
            "\n",
            "Estatísticas descritivas:\n",
            "              Valor      Anomalia\n",
            "count  10000.000000  10000.000000\n",
            "mean    2505.174503      0.010000\n",
            "std     1456.244115      0.099504\n",
            "min        0.000000      0.000000\n",
            "25%     1238.232500      0.000000\n",
            "50%     2520.240000      0.000000\n",
            "75%     3765.190000      0.000000\n",
            "max     4999.790000      1.000000\n"
          ]
        }
      ],
      "source": [
        "df = pd.read_csv('pix.csv', sep=';')\n",
        "\n",
        "print(\"Primeiras 5 linhas do dataset:\")\n",
        "print(df.head())\n",
        "print(\"\\nInformações do dataset:\")\n",
        "print(df.info())\n",
        "print(\"\\nEstatísticas descritivas:\")\n",
        "print(df.describe())"
      ]
    },
    {
      "cell_type": "markdown",
      "metadata": {
        "id": "YUPvuOLZpE1m"
      },
      "source": [
        "## 3. Pré-processamento: Tratamento de Valores Nulos e Categóricas\n",
        "Verifica e trata valores nulos (se houver) e converte colunas categóricas em variáveis dummy para preparar o dataset para modelagem."
      ]
    },
    {
      "cell_type": "code",
      "execution_count": 7,
      "metadata": {
        "colab": {
          "base_uri": "https://localhost:8080/"
        },
        "id": "H07Y-ccLpHh3",
        "outputId": "b950ea1e-335e-4c41-ae2f-31eecf0f8f9a"
      },
      "outputs": [
        {
          "name": "stdout",
          "output_type": "stream",
          "text": [
            "\n",
            "Valores nulos por coluna:\n",
            "EndToEndId            0\n",
            "DataHora              0\n",
            "Valor                 0\n",
            "Moeda                 0\n",
            "Pagador_Nome          0\n",
            "Pagador_CPF_CNPJ      0\n",
            "Pagador_Banco         0\n",
            "Recebedor_Nome        0\n",
            "Recebedor_CPF_CNPJ    0\n",
            "Recebedor_Banco       0\n",
            "ChavePix_Utilizada    0\n",
            "TipoChave             0\n",
            "Descricao             0\n",
            "Status                0\n",
            "Anomalia              0\n",
            "dtype: int64\n"
          ]
        },
        {
          "name": "stderr",
          "output_type": "stream",
          "text": [
            "/tmp/ipython-input-152646886.py:4: FutureWarning: A value is trying to be set on a copy of a DataFrame or Series through chained assignment using an inplace method.\n",
            "The behavior will change in pandas 3.0. This inplace method will never work because the intermediate object on which we are setting values always behaves as a copy.\n",
            "\n",
            "For example, when doing 'df[col].method(value, inplace=True)', try using 'df.method({col: value}, inplace=True)' or df[col] = df[col].method(value) instead, to perform the operation inplace on the original object.\n",
            "\n",
            "\n",
            "  df['Valor'].fillna(df['Valor'].mean(), inplace=True)\n",
            "/tmp/ipython-input-152646886.py:10: FutureWarning: A value is trying to be set on a copy of a DataFrame or Series through chained assignment using an inplace method.\n",
            "The behavior will change in pandas 3.0. This inplace method will never work because the intermediate object on which we are setting values always behaves as a copy.\n",
            "\n",
            "For example, when doing 'df[col].method(value, inplace=True)', try using 'df.method({col: value}, inplace=True)' or df[col] = df[col].method(value) instead, to perform the operation inplace on the original object.\n",
            "\n",
            "\n",
            "  df[column].fillna(df[column].mode()[0], inplace=True)\n"
          ]
        }
      ],
      "source": [
        "print(\"\\nValores nulos por coluna:\")\n",
        "print(df.isnull().sum())\n",
        "\n",
        "df['Valor'].fillna(df['Valor'].mean(), inplace=True)\n",
        "\n",
        "categorical_columns = ['Moeda', 'Pagador_Nome', 'Pagador_CPF_CNPJ', 'Pagador_Banco',\n",
        "                      'Recebedor_Nome', 'Recebedor_CPF_CNPJ', 'Recebedor_Banco',\n",
        "                      'ChavePix_Utilizada', 'TipoChave', 'Descricao', 'Status']\n",
        "for column in categorical_columns:\n",
        "    df[column].fillna(df[column].mode()[0], inplace=True)\n",
        "\n",
        "dummy_columns = ['Moeda', 'Pagador_Banco', 'Recebedor_Banco', 'TipoChave', 'Status']\n",
        "df = pd.get_dummies(df, columns=dummy_columns, drop_first=True)"
      ]
    },
    {
      "cell_type": "markdown",
      "metadata": {
        "id": "r-TD6kC3pKFo"
      },
      "source": [
        "## 4. Separação dos Dados e Divisão em Treino/Teste\n",
        "Separa as variáveis independentes (X) e a variável alvo (y), e divide o dataset em conjuntos de treino (80%) e teste (20%)."
      ]
    },
    {
      "cell_type": "code",
      "execution_count": 8,
      "metadata": {
        "colab": {
          "base_uri": "https://localhost:8080/"
        },
        "id": "fkD5m_EYpMHQ",
        "outputId": "6d3db38d-c9d1-4448-8df0-a23187350827"
      },
      "outputs": [
        {
          "name": "stdout",
          "output_type": "stream",
          "text": [
            "\n",
            "Tamanho do conjunto de treino: (8000, 30)\n",
            "Tamanho do conjunto de teste: (2000, 30)\n"
          ]
        }
      ],
      "source": [
        "X = df.drop(['Anomalia', 'EndToEndId', 'DataHora', 'Pagador_Nome',\n",
        "             'Pagador_CPF_CNPJ', 'Recebedor_Nome', 'Recebedor_CPF_CNPJ',\n",
        "             'ChavePix_Utilizada', 'Descricao'], axis=1)\n",
        "y = df['Anomalia']\n",
        "\n",
        "X_train, X_test, y_train, y_test = train_test_split(X, y, test_size=0.2, random_state=42)\n",
        "\n",
        "print(\"\\nTamanho do conjunto de treino:\", X_train.shape)\n",
        "print(\"Tamanho do conjunto de teste:\", X_test.shape)"
      ]
    },
    {
      "cell_type": "markdown",
      "metadata": {
        "id": "Q_Whad-KpNro"
      },
      "source": [
        "## 5. Treinamento e Avaliação dos Modelos\n",
        "Treina três modelos de classificação (DecisionTree, KNeighbors, LogisticRegression) e avalia cada um com acurácia, F1-Score e matriz de confusão."
      ]
    },
    {
      "cell_type": "code",
      "execution_count": 9,
      "metadata": {
        "colab": {
          "base_uri": "https://localhost:8080/"
        },
        "id": "tQ2WfrWcpPSA",
        "outputId": "469dafba-c27b-4643-e20b-467dff45bf4a"
      },
      "outputs": [
        {
          "name": "stdout",
          "output_type": "stream",
          "text": [
            "\n",
            "Resultados para DecisionTree:\n",
            "Acurácia: 0.9845\n",
            "F1-Score: 0.3673\n",
            "Matriz de Confusão:\n",
            "[[1960   13]\n",
            " [  18    9]]\n",
            "\n",
            "Resultados para KNeighbors:\n",
            "Acurácia: 0.9895\n",
            "F1-Score: 0.3636\n",
            "Matriz de Confusão:\n",
            "[[1973    0]\n",
            " [  21    6]]\n",
            "\n",
            "Resultados para LogisticRegression:\n",
            "Acurácia: 0.9880\n",
            "F1-Score: 0.2000\n",
            "Matriz de Confusão:\n",
            "[[1973    0]\n",
            " [  24    3]]\n"
          ]
        }
      ],
      "source": [
        "models = {\n",
        "    'DecisionTree': DecisionTreeClassifier(random_state=42),\n",
        "    'KNeighbors': KNeighborsClassifier(),\n",
        "    'LogisticRegression': LogisticRegression(random_state=42, max_iter=1000)\n",
        "}\n",
        "\n",
        "results = {'Model': [], 'Accuracy': [], 'F1-Score': []}\n",
        "\n",
        "for name, model in models.items():\n",
        "    model.fit(X_train, y_train)\n",
        "\n",
        "    y_pred = model.predict(X_test)\n",
        "\n",
        "    accuracy = accuracy_score(y_test, y_pred)\n",
        "    f1 = f1_score(y_test, y_pred)\n",
        "    cm = confusion_matrix(y_test, y_pred)\n",
        "\n",
        "    results['Model'].append(name)\n",
        "    results['Accuracy'].append(accuracy)\n",
        "    results['F1-Score'].append(f1)\n",
        "\n",
        "    print(f\"\\nResultados para {name}:\")\n",
        "    print(f\"Acurácia: {accuracy:.4f}\")\n",
        "    print(f\"F1-Score: {f1:.4f}\")\n",
        "    print(f\"Matriz de Confusão:\\n{cm}\")"
      ]
    },
    {
      "cell_type": "markdown",
      "metadata": {
        "id": "Q3oHluKPpRkY"
      },
      "source": [
        "## 6. Visualização: Comparação de Acurácia dos Modelos\n",
        "Gera um gráfico de barras comparando as acurácias dos três modelos."
      ]
    },
    {
      "cell_type": "code",
      "execution_count": 10,
      "metadata": {
        "colab": {
          "base_uri": "https://localhost:8080/",
          "height": 507
        },
        "id": "wlYbzV7epSk4",
        "outputId": "bf268c66-fda7-4540-c35c-aa1ab870a4be"
      },
      "outputs": [
        {
          "data": {
            "image/png": "[encoded data removed]",
            "text/plain": [
              "<Figure size 800x500 with 1 Axes>"
            ]
          },
          "metadata": {},
          "output_type": "display_data"
        }
      ],
      "source": [
        "plt.figure(figsize=(8, 5))\n",
        "plt.bar(results['Model'], results['Accuracy'], color=['#1f77b4', '#ff7f0e', '#2ca02c'])\n",
        "plt.title('Comparação de Acurácia dos Modelos')\n",
        "plt.xlabel('Modelo')\n",
        "plt.ylabel('Acurácia')\n",
        "plt.ylim(0, 1)\n",
        "for i, v in enumerate(results['Accuracy']):\n",
        "    plt.text(i, v + 0.01, f'{v:.4f}', ha='center')\n",
        "plt.tight_layout()\n",
        "plt.show()"
      ]
    },
    {
      "cell_type": "markdown",
      "metadata": {},
      "source": [
        "1 - Qual modelo apresentou melhor desempenho no dataset escolhido?\n",
        "\n",
        "O KNeighborsClassifier teve o melhor desempenho, com a maior acurácia (0.9895) e um F1-Score (0.3636) próximo ao da DecisionTree, mas sem falsos positivos, o que indica maior precisão.\n",
        "\n",
        "2 - O resultado faz sentido?\n",
        "\n",
        "Sim, faz sentido. O dataset é muito desbalanceado (apenas 1% de fraudes, Anomalia=1). Isso faz com que todos os modelos tenham alta acurácia, pois acertam facilmente a classe majoritária (Anomalia=0). O KNeighborsClassifier se saiu melhor por identificar algumas fraudes sem erros de falsos positivos, enquanto os outros modelos tiveram mais dificuldade com a classe minoritária.\n",
        "\n",
        "3 - O que poderia ser feito para melhorar os modelos?\n",
        "\n",
        "Normalizar Valor, extrair features de DataHora, ajustar hiperparâmetros e usar SMOTE para balancear as classes."
      ]
    }
  ],
  "metadata": {
    "colab": {
      "provenance": []
    },
    "kernelspec": {
      "display_name": "Python 3",
      "name": "python3"
    },
    "language_info": {
      "name": "python"
    }
  },
  "nbformat": 4,
  "nbformat_minor": 0
}
